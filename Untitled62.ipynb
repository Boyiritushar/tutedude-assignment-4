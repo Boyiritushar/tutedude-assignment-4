{
  "nbformat": 4,
  "nbformat_minor": 0,
  "metadata": {
    "colab": {
      "provenance": [],
      "authorship_tag": "ABX9TyPwApIG2kO+venV9PYysQSy",
      "include_colab_link": true
    },
    "kernelspec": {
      "name": "python3",
      "display_name": "Python 3"
    },
    "language_info": {
      "name": "python"
    }
  },
  "cells": [
    {
      "cell_type": "markdown",
      "metadata": {
        "id": "view-in-github",
        "colab_type": "text"
      },
      "source": [
        "<a href=\"https://colab.research.google.com/github/Boyiritushar/tutedude-assignment-4/blob/main/Untitled62.ipynb\" target=\"_parent\"><img src=\"https://colab.research.google.com/assets/colab-badge.svg\" alt=\"Open In Colab\"/></a>"
      ]
    },
    {
      "cell_type": "code",
      "source": [],
      "metadata": {
        "id": "caU1nih2wLWk"
      },
      "execution_count": null,
      "outputs": []
    },
    {
      "cell_type": "markdown",
      "source": [
        "# ASSIGNMENT **4**"
      ],
      "metadata": {
        "id": "hkvFtQyvwHJs"
      }
    },
    {
      "cell_type": "markdown",
      "source": [
        "TASK 1"
      ],
      "metadata": {
        "id": "ZgMuX1RRwJqy"
      }
    },
    {
      "cell_type": "code",
      "execution_count": 8,
      "metadata": {
        "colab": {
          "base_uri": "https://localhost:8080/"
        },
        "id": "SZCAfyZuwABW",
        "outputId": "81ff7067-a4f6-48d0-ae6b-49a3b38984e4"
      },
      "outputs": [
        {
          "output_type": "stream",
          "name": "stdout",
          "text": [
            "hello boss\n",
            "how are you doing\n",
            "welcome\n"
          ]
        }
      ],
      "source": [
        "with open(\"sample.txt\" , \"w\") as f:\n",
        "  f.write(\"hello boss\\n\")\n",
        "  f.write(\"how are you doing\\n\")\n",
        "  f.write('welcome')\n",
        "\n",
        "try:\n",
        "  with open(\"sample.txt\" , \"r\") as file:\n",
        "    print(file.read())\n",
        "except FileNotFoundError:\n",
        "  print(\"file not found\")\n"
      ]
    },
    {
      "cell_type": "code",
      "source": [
        "with open(\"sample.txt\" , \"w\") as f:\n",
        "  f.write(\"hello boss\\n\")\n",
        "  f.write(\"how are you doing\\n\")\n",
        "  f.write('welcome')\n",
        "\n",
        "try:\n",
        "  with open(\"sample1.txt\" , \"r\") as f:\n",
        "    print(file.read())\n",
        "except FileNotFoundError:\n",
        "  print(\"file not found\")"
      ],
      "metadata": {
        "colab": {
          "base_uri": "https://localhost:8080/"
        },
        "id": "QuUKXEQxyFKl",
        "outputId": "4ba1147c-843e-478a-ed4e-6a695ffeeea4"
      },
      "execution_count": 13,
      "outputs": [
        {
          "output_type": "stream",
          "name": "stdout",
          "text": [
            "file not found\n"
          ]
        }
      ]
    },
    {
      "cell_type": "markdown",
      "source": [
        "task 2\n"
      ],
      "metadata": {
        "id": "8pIibocMyvxg"
      }
    },
    {
      "cell_type": "code",
      "source": [
        "with open(\"output.txt\" , \"w\") as f:\n",
        "  f.write(\"hello boss\\n\")\n",
        "  f.write(\"how are you doing\\n\")\n",
        "  f.write('welcome\\n')\n",
        "\n",
        "try:\n",
        "  file1=open(\"output.txt\" , \"a\")\n",
        "  appending_file= file1.write(\"welcome to tute dude\")\n",
        "  print(appending_file)\n",
        "except FileNotFoundError:\n",
        "  print(\"file not found\")\n",
        "\n",
        "file1=open(\"output.txt\" , \"r\")\n",
        "print(file1.read())"
      ],
      "metadata": {
        "colab": {
          "base_uri": "https://localhost:8080/"
        },
        "id": "0JN95moFyxnN",
        "outputId": "e7b5956e-74d8-4e28-e244-1e9ae3f04507"
      },
      "execution_count": 19,
      "outputs": [
        {
          "output_type": "stream",
          "name": "stdout",
          "text": [
            "20\n",
            "hello boss\n",
            "how are you doing\n",
            "welcome\n",
            "welcome to tute dude\n"
          ]
        }
      ]
    }
  ]
}